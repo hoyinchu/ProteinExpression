{
 "cells": [
  {
   "cell_type": "code",
   "execution_count": 1,
   "metadata": {},
   "outputs": [],
   "source": [
    "import pandas as pd\n",
    "import numpy as np\n",
    "import numpy.ma as ma\n",
    "import pickle\n",
    "from scipy.spatial import distance\n",
    "from scipy import stats\n",
    "import util\n",
    "import visualization_util\n",
    "import time"
   ]
  },
  {
   "cell_type": "markdown",
   "metadata": {},
   "source": [
    "# Data Preprocessing"
   ]
  },
  {
   "cell_type": "code",
   "execution_count": 2,
   "metadata": {},
   "outputs": [],
   "source": [
    "proteomeHD_df = pd.read_csv('./data_sources/ProteomeHD_v1_1.csv')\n",
    "proteomeHD_feature_names = [col for col in proteomeHD_df.columns if 'Ratio' in col]\n",
    "proteomeHD_feature_matrix = proteomeHD_df[proteomeHD_feature_names].to_numpy()\n",
    "# Keep only proteins quantified in at least 95 experiments \n",
    "rows_to_keep = [i for i in range(len(proteomeHD_feature_matrix)) if np.sum(~np.isnan(proteomeHD_feature_matrix[i])) >= 95]\n",
    "proteomeHD_df = proteomeHD_df.iloc[rows_to_keep]\n",
    "proteomeHD_gene_names = proteomeHD_df['Gene_names'].to_numpy()\n",
    "proteomeHD_feature_matrix = proteomeHD_df[proteomeHD_feature_names].to_numpy()"
   ]
  },
  {
   "cell_type": "markdown",
   "metadata": {},
   "source": [
    "# Pearson Correlation (Higher is better)"
   ]
  },
  {
   "cell_type": "code",
   "execution_count": null,
   "metadata": {},
   "outputs": [],
   "source": [
    "proteomeHD_pearson_corr = pd.DataFrame(proteomeHD_feature_matrix.T).corr().to_numpy()\n",
    "pickle.dump(proteomeHD_pearson_corr, open(\"./pickle_files/proteomeHD_pearson_corr.p\", \"wb\"))"
   ]
  },
  {
   "cell_type": "code",
   "execution_count": 3,
   "metadata": {},
   "outputs": [],
   "source": [
    "# Converts to csv for easier analysis in other software\n",
    "proteomeHD_pearson_corr = pickle.load(open(\"./pickle_files/proteomeHD_pearson_corr.p\", \"rb\"))\n",
    "proteomeHD_pearson_corr_mat = pd.DataFrame(columns=proteomeHD_gene_names,data=proteomeHD_pearson_corr)\n",
    "proteomeHD_pearson_corr_mat.to_csv(\"./pairwise_csv/proteomeHD_pearson_corr.csv\",index=False)"
   ]
  },
  {
   "cell_type": "markdown",
   "metadata": {},
   "source": [
    "# Cosine Similarity (Lower is better)"
   ]
  },
  {
   "cell_type": "code",
   "execution_count": null,
   "metadata": {},
   "outputs": [],
   "source": [
    "def calc_distance_matrix(feature_matrix,dist_func,shared_only=True):\n",
    "    print(f\"Calculating {dist_func.__name__}...\")\n",
    "    start_time = time.time()\n",
    "    dist_mat = np.empty((feature_matrix.shape[0],feature_matrix.shape[0]))\n",
    "    for i in range(len(feature_matrix)):\n",
    "        g1 = feature_matrix[i]\n",
    "        for j in range(i,len(feature_matrix)):\n",
    "            g2 = feature_matrix[j]\n",
    "            if shared_only:\n",
    "                shared_index = np.where(~np.logical_or(np.isnan(g1),np.isnan(g2)))\n",
    "                dist_mat[i,j] = dist_func(g1[shared_index],g2[shared_index])\n",
    "            else:\n",
    "                dist_mat[i,j] = dist_func(g1,g2)\n",
    "        if i%200 == 1 and i!=1:\n",
    "            util.calc_eta(start_time,i,len(feature_matrix))\n",
    "    print(\"Done\")\n",
    "    return dist_mat"
   ]
  },
  {
   "cell_type": "code",
   "execution_count": null,
   "metadata": {},
   "outputs": [],
   "source": [
    "proteomeHD_cosine_sim = calc_distance_matrix(proteomeHD_feature_matrix,distance.cosine)\n",
    "pickle.dump(proteomeHD_cosine_sim, open(\"./pickle_files/proteomeHD_cosine_sim.p\", \"wb\"))"
   ]
  },
  {
   "cell_type": "code",
   "execution_count": 4,
   "metadata": {},
   "outputs": [],
   "source": [
    "proteomeHD_cosine_sim = pickle.load(open(\"./pickle_files/proteomeHD_cosine_sim.p\", \"rb\"))\n",
    "proteomeHD_cosine_sim_mat = pd.DataFrame(columns=proteomeHD_gene_names,data=proteomeHD_cosine_sim)\n",
    "proteomeHD_cosine_sim_mat.to_csv(\"./pairwise_csv/proteomeHD_cosine_sim.csv\",index=False)"
   ]
  },
  {
   "cell_type": "markdown",
   "metadata": {},
   "source": [
    "# Euclidean Distance (Lower is better)"
   ]
  },
  {
   "cell_type": "code",
   "execution_count": null,
   "metadata": {},
   "outputs": [],
   "source": [
    "def euclidean_wrapper(g1,g2):\n",
    "    if len(g1) == 0: return float('NaN')\n",
    "    return np.linalg.norm(g1-g2)\n",
    "proteomeHD_euclidean_dist = calc_distance_matrix(proteomeHD_feature_matrix,euclidean_wrapper)\n",
    "pickle.dump(proteomeHD_euclidean_dist, open(\"./pickle_files/proteomeHD_euclidean_dist.p\", \"wb\"))"
   ]
  },
  {
   "cell_type": "code",
   "execution_count": 5,
   "metadata": {},
   "outputs": [],
   "source": [
    "proteomeHD_euclidean_dist = pickle.load(open(\"./pickle_files/proteomeHD_euclidean_dist.p\", \"rb\"))\n",
    "proteomeHD_euclidean_dist_mat = pd.DataFrame(columns=proteomeHD_gene_names,data=proteomeHD_euclidean_dist)\n",
    "proteomeHD_euclidean_dist_mat.to_csv(\"./pairwise_csv/proteomeHD_euclidean_dist.csv\",index=False)"
   ]
  },
  {
   "cell_type": "markdown",
   "metadata": {},
   "source": [
    "# Co-observed (Higher is better)"
   ]
  },
  {
   "cell_type": "code",
   "execution_count": null,
   "metadata": {},
   "outputs": [],
   "source": [
    "def coobserved_wrapper(g1,g2):\n",
    "    return len(g1)\n",
    "proteomeHD_coobserved_mat = calc_distance_matrix(proteomeHD_feature_matrix,coobserved_wrapper)\n",
    "pickle.dump(proteomeHD_coobserved_mat, open(\"./pickle_files/proteomeHD_coobserved_mat.p\", \"wb\"))"
   ]
  },
  {
   "cell_type": "code",
   "execution_count": 6,
   "metadata": {},
   "outputs": [],
   "source": [
    "proteomeHD_coobserved_mat = pickle.load(open(\"./pickle_files/proteomeHD_coobserved_mat.p\", \"rb\"))\n",
    "proteomeHD_coobserved_mat_mat = pd.DataFrame(columns=proteomeHD_gene_names,data=proteomeHD_coobserved_mat)\n",
    "proteomeHD_coobserved_mat_mat.to_csv(\"./pairwise_csv/proteomeHD_coobserved_mat.csv\",index=False)"
   ]
  },
  {
   "cell_type": "markdown",
   "metadata": {},
   "source": [
    "# Spearman Correlation (Higher is better)"
   ]
  },
  {
   "cell_type": "code",
   "execution_count": null,
   "metadata": {},
   "outputs": [],
   "source": [
    "def spearman_wrapper(g1,g2):\n",
    "    return stats.spearmanr(g1,g2)[0]\n",
    "proteomeHD_spearman_mat = calc_distance_matrix(proteomeHD_feature_matrix,spearman_wrapper)\n",
    "pickle.dump(proteomeHD_spearman_mat, open(\"./pickle_files/proteomeHD_spearman_corr.p\", \"wb\"))"
   ]
  },
  {
   "cell_type": "code",
   "execution_count": 7,
   "metadata": {},
   "outputs": [],
   "source": [
    "proteomeHD_spearman_corr = pickle.load(open(\"./pickle_files/proteomeHD_spearman_corr.p\", \"rb\"))\n",
    "proteomeHD_spearman_corr_mat = pd.DataFrame(columns=proteomeHD_gene_names,data=proteomeHD_spearman_corr)\n",
    "proteomeHD_spearman_corr_mat.to_csv(\"./pairwise_csv/proteomeHD_spearman_corr.csv\",index=False)"
   ]
  },
  {
   "cell_type": "markdown",
   "metadata": {},
   "source": [
    "# Write as pair list"
   ]
  },
  {
   "cell_type": "code",
   "execution_count": null,
   "metadata": {},
   "outputs": [],
   "source": [
    "def write_pair_list(names,matrix,col_names,file_path):\n",
    "    assert len(names) == len(matrix)\n",
    "    print(\"Start writing pair list\")\n",
    "    start_time = time.time()\n",
    "    util.append_to_csv(file_path,col_names,[])\n",
    "    to_write = []\n",
    "    for i in range(len(names)):\n",
    "        for j in range(i,len(matrix)):\n",
    "            if i!=j:\n",
    "                to_write.append((names[i],names[j],matrix[i,j]))\n",
    "        if (i%100==1 or i==len(names)-1) and i!=1:\n",
    "            util.append_to_csv(file_path,None,to_write)\n",
    "            to_write.clear()\n",
    "            util.calc_eta(start_time,i,len(names))\n",
    "    print(\"Done writing pair list\")"
   ]
  },
  {
   "cell_type": "code",
   "execution_count": null,
   "metadata": {},
   "outputs": [],
   "source": [
    "# Load and write proteomeHD pearson corr matrix\n",
    "proteomeHD_pearson_corr = pickle.load(open(\"./pickle_files/proteomeHD_pearson_corr.p\", \"rb\"))\n",
    "proteomeHD_pearson_corr_dist = 1 - proteomeHD_pearson_corr\n",
    "write_pair_list(proteomeHD_gene_names,proteomeHD_pearson_corr_dist,['gene_1','gene_2','pearson'],\"./dist_csv/proteomeHD_pearson_corr_dist.csv\")"
   ]
  },
  {
   "cell_type": "code",
   "execution_count": null,
   "metadata": {},
   "outputs": [],
   "source": [
    "# Load and write proteomeHD cosine sim matrix\n",
    "proteomeHD_cosine_sim = pickle.load(open(\"./pickle_files/proteomeHD_cosine_sim.p\", \"rb\"))\n",
    "write_pair_list(proteomeHD_gene_names,proteomeHD_cosine_sim,['gene_1','gene_2','cosine'],\"./dist_csv/proteomeHD_cosine_sim.csv\")"
   ]
  },
  {
   "cell_type": "code",
   "execution_count": null,
   "metadata": {},
   "outputs": [],
   "source": [
    "# Load and write proteomeHD euclidean dist matrix\n",
    "proteomeHD_euclidean_dist = pickle.load(open(\"./pickle_files/proteomeHD_euclidean_dist.p\", \"rb\"))\n",
    "write_pair_list(proteomeHD_gene_names,proteomeHD_euclidean_dist,['gene_1','gene_2','euclidean'],\"./dist_csv/proteomeHD_euclidean_dist.csv\")"
   ]
  },
  {
   "cell_type": "code",
   "execution_count": null,
   "metadata": {},
   "outputs": [],
   "source": [
    "# Load and write proteomeHD coobserved dist matrix\n",
    "proteomeHD_coobserved_dist = pickle.load(open(\"./pickle_files/proteomeHD_coobserved_mat.p\", \"rb\"))\n",
    "write_pair_list(proteomeHD_gene_names,proteomeHD_coobserved_dist,['gene_1','gene_2','coobserved'],\"./dist_csv/proteomeHD_coobserved_dist.csv\")"
   ]
  },
  {
   "cell_type": "code",
   "execution_count": null,
   "metadata": {},
   "outputs": [],
   "source": [
    "# Load and write proteomeHD spearman dist matrix\n",
    "proteomeHD_spearman_dist = pickle.load(open(\"./pickle_files/proteomeHD_spearman_corr.p\", \"rb\"))\n",
    "write_pair_list(proteomeHD_gene_names,proteomeHD_spearman_dist,['gene_1','gene_2','spearman'],\"./dist_csv/proteomeHD_spearman_corr_dist.csv\")"
   ]
  },
  {
   "cell_type": "markdown",
   "metadata": {},
   "source": [
    "# Create ProteomeHD-String Validation file"
   ]
  },
  {
   "cell_type": "code",
   "execution_count": null,
   "metadata": {},
   "outputs": [],
   "source": [
    "# Create Proteome-String Validation file\n",
    "start_time = time.time()\n",
    "proteomeHD_pearson_corr_csv = pd.read_csv(\"./dist_csv/proteomeHD_pearson_corr_dist.csv\")\n",
    "proteomeHD_g1s = proteomeHD_pearson_corr_csv['gene_1']\n",
    "proteomeHD_g2s = proteomeHD_pearson_corr_csv['gene_2']\n",
    "string_validation_json = util.read_json_from(\"./data_sources/StringDB_combined_700_validation.json\")\n",
    "string_validation_vec = np.zeros(len(proteomeHD_g1s))\n",
    "for i in range(len(proteomeHD_g1s)):\n",
    "    g1=proteomeHD_g1s[i]\n",
    "    g2=proteomeHD_g2s[i]\n",
    "    if g1 in string_validation_json['relations'] and g2 in string_validation_json['relations'][g1]:\n",
    "        string_validation_vec[i] = 1\n",
    "    if i%100000 ==1 and i!=1:\n",
    "        util.calc_eta(start_time,i,len(proteomeHD_g1s))\n",
    "proteome_string_validation_df = pd.DataFrame({'gene_1':proteomeHD_g1s,'gene_2':proteomeHD_g2s,'string':string_validation_vec})\n",
    "proteome_string_validation_df.to_csv(\"./data_sources/ProteomeHD_StringDB_700_validation.csv\",index=False)"
   ]
  },
  {
   "cell_type": "markdown",
   "metadata": {},
   "source": [
    "# Check ROC Performance"
   ]
  },
  {
   "cell_type": "code",
   "execution_count": null,
   "metadata": {},
   "outputs": [],
   "source": [
    "# Create a df with all scores included for visualization\n",
    "proteomeHD_pearson_corr = 1 - np.nan_to_num(pd.read_csv(\"./dist_csv/proteomeHD_pearson_corr_dist.csv\")['pearson'].to_numpy(),nan=-1)\n",
    "proteomeHD_cosine_dist = 1 - np.nan_to_num(pd.read_csv(\"./dist_csv/proteomeHD_cosine_sim.csv\")['cosine'].to_numpy(),nan=1)\n",
    "proteomeHD_euclidean_dist_inverted = 1 / (np.nan_to_num(pd.read_csv(\"./dist_csv/proteomeHD_euclidean_dist.csv\")['euclidean'].to_numpy(),nan=1e10) + 1e-10)\n",
    "proteomeHD_coobserved = pd.read_csv(\"./dist_csv/proteomeHD_coobserved_dist.csv\")['coobserved'].to_numpy()\n",
    "proteomeHD_spearman_corr = np.nan_to_num(pd.read_csv(\"./dist_csv/proteomeHD_spearman_corr_dist.csv\")['spearman'].to_numpy(),nan=-1)\n",
    "proteomeHD_coregulation = pd.read_csv('./dist_csv/coregulation_scores_genes_sorted.csv')['coregulation_score'].to_numpy()\n",
    "proteomeHD_string_validation = pd.read_csv(\"./data_sources/ProteomeHD_StringDB_700_validation.csv\")['string'].to_numpy()\n",
    "big_df = pd.DataFrame({\n",
    "    'pearson_dist': proteomeHD_pearson_corr,\n",
    "    'cosine_dist': proteomeHD_cosine_dist,\n",
    "    'euclidean': proteomeHD_euclidean_dist_inverted,\n",
    "    'coobserved': proteomeHD_coobserved,\n",
    "    'spearman': proteomeHD_spearman_corr,\n",
    "    'coregulation': proteomeHD_coregulation,\n",
    "    'validation': proteomeHD_string_validation\n",
    "})"
   ]
  },
  {
   "cell_type": "code",
   "execution_count": null,
   "metadata": {},
   "outputs": [],
   "source": [
    "visualization_util.df_roc_analysis(big_df,['pearson_dist','cosine_dist','euclidean','coobserved','spearman','coregulation'],'validation','ROC Curve, ProteomeHD')"
   ]
  },
  {
   "cell_type": "code",
   "execution_count": null,
   "metadata": {},
   "outputs": [],
   "source": [
    "visualization_util.df_precision_recall_analysis(big_df,['pearson_dist','cosine_dist','euclidean','coobserved','spearman','coregulation'],'validation','PRC Curve, ProteomeHD')"
   ]
  },
  {
   "cell_type": "code",
   "execution_count": null,
   "metadata": {},
   "outputs": [],
   "source": []
  }
 ],
 "metadata": {
  "kernelspec": {
   "display_name": "Python 3",
   "language": "python",
   "name": "python3"
  },
  "language_info": {
   "codemirror_mode": {
    "name": "ipython",
    "version": 3
   },
   "file_extension": ".py",
   "mimetype": "text/x-python",
   "name": "python",
   "nbconvert_exporter": "python",
   "pygments_lexer": "ipython3",
   "version": "3.8.3"
  }
 },
 "nbformat": 4,
 "nbformat_minor": 4
}
