{
 "cells": [
  {
   "cell_type": "code",
   "execution_count": 2,
   "metadata": {},
   "outputs": [],
   "source": [
    "import pandas as pd\n",
    "import numpy as np\n",
    "import numpy.ma as ma\n",
    "import pickle\n",
    "from scipy.spatial import distance"
   ]
  },
  {
   "cell_type": "markdown",
   "metadata": {},
   "source": [
    "# Data Preprocessing"
   ]
  },
  {
   "cell_type": "code",
   "execution_count": 3,
   "metadata": {},
   "outputs": [],
   "source": [
    "proteomeHD_df = pd.read_csv('./data_sources/ProteomeHD_v1_1.csv')\n",
    "proteomeHD_feature_names = [col for col in proteomeHD_df.columns if 'Ratio' in col]\n",
    "proteomeHD_feature_matrix = proteomeHD_df[proteomeHD_feature_names].to_numpy()\n",
    "# Keep only proteins quantified in at least 95 experiments \n",
    "rows_to_keep = [i for i in range(len(proteomeHD_feature_matrix)) if np.sum(~np.isnan(proteomeHD_feature_matrix[i])) >= 95]\n",
    "proteomeHD_df = proteomeHD_df.iloc[rows_to_keep]\n",
    "proteomeHD_feature_matrix = proteomeHD_df[proteomeHD_feature_names].to_numpy()"
   ]
  },
  {
   "cell_type": "markdown",
   "metadata": {},
   "source": [
    "# Pearson Correlation"
   ]
  },
  {
   "cell_type": "code",
   "execution_count": 76,
   "metadata": {},
   "outputs": [],
   "source": [
    "proteomeHD_pearson_corr = pd.DataFrame(proteomeHD_feature_matrix.T).corr()\n",
    "proteomeHD_pearson_corr.columns = proteomeHD_df['Gene_names'].to_numpy()\n",
    "pickle.dump(proteomeHD_pearson_corr, open(\"proteomeHD_pearson_corr.p\", \"wb\"))"
   ]
  },
  {
   "cell_type": "code",
   "execution_count": 77,
   "metadata": {
    "collapsed": true
   },
   "outputs": [
    {
     "data": {
      "text/html": [
       "<div>\n",
       "<style scoped>\n",
       "    .dataframe tbody tr th:only-of-type {\n",
       "        vertical-align: middle;\n",
       "    }\n",
       "\n",
       "    .dataframe tbody tr th {\n",
       "        vertical-align: top;\n",
       "    }\n",
       "\n",
       "    .dataframe thead th {\n",
       "        text-align: right;\n",
       "    }\n",
       "</style>\n",
       "<table border=\"1\" class=\"dataframe\">\n",
       "  <thead>\n",
       "    <tr style=\"text-align: right;\">\n",
       "      <th></th>\n",
       "      <th>RBM47</th>\n",
       "      <th>UBA6</th>\n",
       "      <th>ESYT2</th>\n",
       "      <th>KIAA1598</th>\n",
       "      <th>ARHGAP10</th>\n",
       "      <th>ILVBL</th>\n",
       "      <th>NBAS</th>\n",
       "      <th>DENND3</th>\n",
       "      <th>VWA8</th>\n",
       "      <th>SBNO1</th>\n",
       "      <th>...</th>\n",
       "      <th>MAP3K4</th>\n",
       "      <th>DDX49</th>\n",
       "      <th>CAPN7</th>\n",
       "      <th>WASF2</th>\n",
       "      <th>MAU2</th>\n",
       "      <th>ENPP4</th>\n",
       "      <th>ZHX2</th>\n",
       "      <th>MORC2</th>\n",
       "      <th>IVNS1ABP</th>\n",
       "      <th>SEC23IP</th>\n",
       "    </tr>\n",
       "  </thead>\n",
       "  <tbody>\n",
       "    <tr>\n",
       "      <th>0</th>\n",
       "      <td>1.000000</td>\n",
       "      <td>-0.431411</td>\n",
       "      <td>-0.094415</td>\n",
       "      <td>0.455848</td>\n",
       "      <td>0.071829</td>\n",
       "      <td>0.384105</td>\n",
       "      <td>0.044797</td>\n",
       "      <td>-0.025830</td>\n",
       "      <td>0.036665</td>\n",
       "      <td>-0.214021</td>\n",
       "      <td>...</td>\n",
       "      <td>-0.220737</td>\n",
       "      <td>0.205795</td>\n",
       "      <td>0.278254</td>\n",
       "      <td>0.010129</td>\n",
       "      <td>0.006238</td>\n",
       "      <td>0.425007</td>\n",
       "      <td>0.449022</td>\n",
       "      <td>0.304477</td>\n",
       "      <td>-0.612468</td>\n",
       "      <td>-0.000718</td>\n",
       "    </tr>\n",
       "    <tr>\n",
       "      <th>1</th>\n",
       "      <td>-0.431411</td>\n",
       "      <td>1.000000</td>\n",
       "      <td>-0.159706</td>\n",
       "      <td>-0.091524</td>\n",
       "      <td>0.240889</td>\n",
       "      <td>-0.131397</td>\n",
       "      <td>-0.124255</td>\n",
       "      <td>-0.134933</td>\n",
       "      <td>-0.017076</td>\n",
       "      <td>-0.391442</td>\n",
       "      <td>...</td>\n",
       "      <td>0.019252</td>\n",
       "      <td>-0.336302</td>\n",
       "      <td>-0.057930</td>\n",
       "      <td>-0.140297</td>\n",
       "      <td>-0.505185</td>\n",
       "      <td>-0.084101</td>\n",
       "      <td>-0.509618</td>\n",
       "      <td>-0.602308</td>\n",
       "      <td>0.321049</td>\n",
       "      <td>0.334175</td>\n",
       "    </tr>\n",
       "    <tr>\n",
       "      <th>2</th>\n",
       "      <td>-0.094415</td>\n",
       "      <td>-0.159706</td>\n",
       "      <td>1.000000</td>\n",
       "      <td>0.138347</td>\n",
       "      <td>0.322340</td>\n",
       "      <td>0.361987</td>\n",
       "      <td>0.319078</td>\n",
       "      <td>0.607401</td>\n",
       "      <td>-0.270201</td>\n",
       "      <td>0.244635</td>\n",
       "      <td>...</td>\n",
       "      <td>-0.070447</td>\n",
       "      <td>-0.004480</td>\n",
       "      <td>-0.136747</td>\n",
       "      <td>0.487370</td>\n",
       "      <td>0.255446</td>\n",
       "      <td>0.222310</td>\n",
       "      <td>-0.152601</td>\n",
       "      <td>0.041395</td>\n",
       "      <td>-0.088946</td>\n",
       "      <td>-0.294995</td>\n",
       "    </tr>\n",
       "    <tr>\n",
       "      <th>3</th>\n",
       "      <td>0.455848</td>\n",
       "      <td>-0.091524</td>\n",
       "      <td>0.138347</td>\n",
       "      <td>1.000000</td>\n",
       "      <td>-0.289084</td>\n",
       "      <td>0.287946</td>\n",
       "      <td>0.252261</td>\n",
       "      <td>0.002012</td>\n",
       "      <td>0.078278</td>\n",
       "      <td>0.009210</td>\n",
       "      <td>...</td>\n",
       "      <td>-0.006613</td>\n",
       "      <td>-0.059126</td>\n",
       "      <td>0.368434</td>\n",
       "      <td>-0.031533</td>\n",
       "      <td>0.143856</td>\n",
       "      <td>-0.362575</td>\n",
       "      <td>0.367958</td>\n",
       "      <td>0.160309</td>\n",
       "      <td>-0.105514</td>\n",
       "      <td>0.273601</td>\n",
       "    </tr>\n",
       "    <tr>\n",
       "      <th>4</th>\n",
       "      <td>0.071829</td>\n",
       "      <td>0.240889</td>\n",
       "      <td>0.322340</td>\n",
       "      <td>-0.289084</td>\n",
       "      <td>1.000000</td>\n",
       "      <td>-0.011932</td>\n",
       "      <td>0.028757</td>\n",
       "      <td>0.497475</td>\n",
       "      <td>0.286646</td>\n",
       "      <td>-0.345136</td>\n",
       "      <td>...</td>\n",
       "      <td>0.074987</td>\n",
       "      <td>0.008556</td>\n",
       "      <td>-0.099811</td>\n",
       "      <td>-0.025742</td>\n",
       "      <td>-0.063591</td>\n",
       "      <td>0.237251</td>\n",
       "      <td>-0.239788</td>\n",
       "      <td>-0.140437</td>\n",
       "      <td>0.035715</td>\n",
       "      <td>-0.011225</td>\n",
       "    </tr>\n",
       "    <tr>\n",
       "      <th>...</th>\n",
       "      <td>...</td>\n",
       "      <td>...</td>\n",
       "      <td>...</td>\n",
       "      <td>...</td>\n",
       "      <td>...</td>\n",
       "      <td>...</td>\n",
       "      <td>...</td>\n",
       "      <td>...</td>\n",
       "      <td>...</td>\n",
       "      <td>...</td>\n",
       "      <td>...</td>\n",
       "      <td>...</td>\n",
       "      <td>...</td>\n",
       "      <td>...</td>\n",
       "      <td>...</td>\n",
       "      <td>...</td>\n",
       "      <td>...</td>\n",
       "      <td>...</td>\n",
       "      <td>...</td>\n",
       "      <td>...</td>\n",
       "      <td>...</td>\n",
       "    </tr>\n",
       "    <tr>\n",
       "      <th>5008</th>\n",
       "      <td>0.425007</td>\n",
       "      <td>-0.084101</td>\n",
       "      <td>0.222310</td>\n",
       "      <td>-0.362575</td>\n",
       "      <td>0.237251</td>\n",
       "      <td>0.046153</td>\n",
       "      <td>0.029913</td>\n",
       "      <td>0.341321</td>\n",
       "      <td>-0.136022</td>\n",
       "      <td>-0.006928</td>\n",
       "      <td>...</td>\n",
       "      <td>-0.011801</td>\n",
       "      <td>-0.079180</td>\n",
       "      <td>0.024860</td>\n",
       "      <td>0.384848</td>\n",
       "      <td>-0.334204</td>\n",
       "      <td>1.000000</td>\n",
       "      <td>-0.235221</td>\n",
       "      <td>-0.231404</td>\n",
       "      <td>-0.328365</td>\n",
       "      <td>-0.507690</td>\n",
       "    </tr>\n",
       "    <tr>\n",
       "      <th>5009</th>\n",
       "      <td>0.449022</td>\n",
       "      <td>-0.509618</td>\n",
       "      <td>-0.152601</td>\n",
       "      <td>0.367958</td>\n",
       "      <td>-0.239788</td>\n",
       "      <td>-0.026363</td>\n",
       "      <td>-0.127298</td>\n",
       "      <td>0.006246</td>\n",
       "      <td>-0.177634</td>\n",
       "      <td>0.341963</td>\n",
       "      <td>...</td>\n",
       "      <td>0.006577</td>\n",
       "      <td>0.304447</td>\n",
       "      <td>0.273708</td>\n",
       "      <td>-0.216538</td>\n",
       "      <td>0.168282</td>\n",
       "      <td>-0.235221</td>\n",
       "      <td>1.000000</td>\n",
       "      <td>0.669537</td>\n",
       "      <td>-0.441846</td>\n",
       "      <td>-0.215904</td>\n",
       "    </tr>\n",
       "    <tr>\n",
       "      <th>5010</th>\n",
       "      <td>0.304477</td>\n",
       "      <td>-0.602308</td>\n",
       "      <td>0.041395</td>\n",
       "      <td>0.160309</td>\n",
       "      <td>-0.140437</td>\n",
       "      <td>0.115064</td>\n",
       "      <td>0.056445</td>\n",
       "      <td>-0.260511</td>\n",
       "      <td>-0.139058</td>\n",
       "      <td>0.403243</td>\n",
       "      <td>...</td>\n",
       "      <td>0.018868</td>\n",
       "      <td>0.302319</td>\n",
       "      <td>0.070261</td>\n",
       "      <td>0.115117</td>\n",
       "      <td>0.498486</td>\n",
       "      <td>-0.231404</td>\n",
       "      <td>0.669537</td>\n",
       "      <td>1.000000</td>\n",
       "      <td>-0.008747</td>\n",
       "      <td>-0.062775</td>\n",
       "    </tr>\n",
       "    <tr>\n",
       "      <th>5011</th>\n",
       "      <td>-0.612468</td>\n",
       "      <td>0.321049</td>\n",
       "      <td>-0.088946</td>\n",
       "      <td>-0.105514</td>\n",
       "      <td>0.035715</td>\n",
       "      <td>-0.237479</td>\n",
       "      <td>0.138608</td>\n",
       "      <td>-0.134134</td>\n",
       "      <td>0.020129</td>\n",
       "      <td>0.393377</td>\n",
       "      <td>...</td>\n",
       "      <td>0.396069</td>\n",
       "      <td>-0.157808</td>\n",
       "      <td>-0.271083</td>\n",
       "      <td>0.373383</td>\n",
       "      <td>0.154335</td>\n",
       "      <td>-0.328365</td>\n",
       "      <td>-0.441846</td>\n",
       "      <td>-0.008747</td>\n",
       "      <td>1.000000</td>\n",
       "      <td>0.335174</td>\n",
       "    </tr>\n",
       "    <tr>\n",
       "      <th>5012</th>\n",
       "      <td>-0.000718</td>\n",
       "      <td>0.334175</td>\n",
       "      <td>-0.294995</td>\n",
       "      <td>0.273601</td>\n",
       "      <td>-0.011225</td>\n",
       "      <td>0.017925</td>\n",
       "      <td>0.044011</td>\n",
       "      <td>-0.549150</td>\n",
       "      <td>0.189036</td>\n",
       "      <td>0.003136</td>\n",
       "      <td>...</td>\n",
       "      <td>-0.052582</td>\n",
       "      <td>-0.278225</td>\n",
       "      <td>0.167613</td>\n",
       "      <td>-0.258342</td>\n",
       "      <td>-0.007414</td>\n",
       "      <td>-0.507690</td>\n",
       "      <td>-0.215904</td>\n",
       "      <td>-0.062775</td>\n",
       "      <td>0.335174</td>\n",
       "      <td>1.000000</td>\n",
       "    </tr>\n",
       "  </tbody>\n",
       "</table>\n",
       "<p>5013 rows × 5013 columns</p>\n",
       "</div>"
      ],
      "text/plain": [
       "         RBM47      UBA6     ESYT2  KIAA1598  ARHGAP10     ILVBL      NBAS  \\\n",
       "0     1.000000 -0.431411 -0.094415  0.455848  0.071829  0.384105  0.044797   \n",
       "1    -0.431411  1.000000 -0.159706 -0.091524  0.240889 -0.131397 -0.124255   \n",
       "2    -0.094415 -0.159706  1.000000  0.138347  0.322340  0.361987  0.319078   \n",
       "3     0.455848 -0.091524  0.138347  1.000000 -0.289084  0.287946  0.252261   \n",
       "4     0.071829  0.240889  0.322340 -0.289084  1.000000 -0.011932  0.028757   \n",
       "...        ...       ...       ...       ...       ...       ...       ...   \n",
       "5008  0.425007 -0.084101  0.222310 -0.362575  0.237251  0.046153  0.029913   \n",
       "5009  0.449022 -0.509618 -0.152601  0.367958 -0.239788 -0.026363 -0.127298   \n",
       "5010  0.304477 -0.602308  0.041395  0.160309 -0.140437  0.115064  0.056445   \n",
       "5011 -0.612468  0.321049 -0.088946 -0.105514  0.035715 -0.237479  0.138608   \n",
       "5012 -0.000718  0.334175 -0.294995  0.273601 -0.011225  0.017925  0.044011   \n",
       "\n",
       "        DENND3      VWA8     SBNO1  ...    MAP3K4     DDX49     CAPN7  \\\n",
       "0    -0.025830  0.036665 -0.214021  ... -0.220737  0.205795  0.278254   \n",
       "1    -0.134933 -0.017076 -0.391442  ...  0.019252 -0.336302 -0.057930   \n",
       "2     0.607401 -0.270201  0.244635  ... -0.070447 -0.004480 -0.136747   \n",
       "3     0.002012  0.078278  0.009210  ... -0.006613 -0.059126  0.368434   \n",
       "4     0.497475  0.286646 -0.345136  ...  0.074987  0.008556 -0.099811   \n",
       "...        ...       ...       ...  ...       ...       ...       ...   \n",
       "5008  0.341321 -0.136022 -0.006928  ... -0.011801 -0.079180  0.024860   \n",
       "5009  0.006246 -0.177634  0.341963  ...  0.006577  0.304447  0.273708   \n",
       "5010 -0.260511 -0.139058  0.403243  ...  0.018868  0.302319  0.070261   \n",
       "5011 -0.134134  0.020129  0.393377  ...  0.396069 -0.157808 -0.271083   \n",
       "5012 -0.549150  0.189036  0.003136  ... -0.052582 -0.278225  0.167613   \n",
       "\n",
       "         WASF2      MAU2     ENPP4      ZHX2     MORC2  IVNS1ABP   SEC23IP  \n",
       "0     0.010129  0.006238  0.425007  0.449022  0.304477 -0.612468 -0.000718  \n",
       "1    -0.140297 -0.505185 -0.084101 -0.509618 -0.602308  0.321049  0.334175  \n",
       "2     0.487370  0.255446  0.222310 -0.152601  0.041395 -0.088946 -0.294995  \n",
       "3    -0.031533  0.143856 -0.362575  0.367958  0.160309 -0.105514  0.273601  \n",
       "4    -0.025742 -0.063591  0.237251 -0.239788 -0.140437  0.035715 -0.011225  \n",
       "...        ...       ...       ...       ...       ...       ...       ...  \n",
       "5008  0.384848 -0.334204  1.000000 -0.235221 -0.231404 -0.328365 -0.507690  \n",
       "5009 -0.216538  0.168282 -0.235221  1.000000  0.669537 -0.441846 -0.215904  \n",
       "5010  0.115117  0.498486 -0.231404  0.669537  1.000000 -0.008747 -0.062775  \n",
       "5011  0.373383  0.154335 -0.328365 -0.441846 -0.008747  1.000000  0.335174  \n",
       "5012 -0.258342 -0.007414 -0.507690 -0.215904 -0.062775  0.335174  1.000000  \n",
       "\n",
       "[5013 rows x 5013 columns]"
      ]
     },
     "execution_count": 77,
     "metadata": {},
     "output_type": "execute_result"
    }
   ],
   "source": [
    "proteomeHD_pearson_corr"
   ]
  },
  {
   "cell_type": "markdown",
   "metadata": {},
   "source": [
    "# Cosine Similarity"
   ]
  },
  {
   "cell_type": "code",
   "execution_count": 4,
   "metadata": {},
   "outputs": [],
   "source": [
    "proteomeHD_cosine_sim = np.empty((proteomeHD_feature_matrix.shape[0],proteomeHD_feature_matrix.shape[0]))\n",
    "for i in range(len(proteomeHD_cosine_sim)):\n",
    "    g1 = proteomeHD_cosine_sim[i]\n",
    "    for j in range(len(proteomeHD_cosine_sim)):\n",
    "        g2 = proteomeHD_cosine_sim[j]\n",
    "        shared_index = np.where(~np.logical_or(np.isnan(g1),np.isnan(g2)))\n",
    "        proteomeHD_cosine_sim[i,j] = distance.cosine(g1[shared_index],g2[shared_index])"
   ]
  },
  {
   "cell_type": "code",
   "execution_count": 9,
   "metadata": {},
   "outputs": [],
   "source": [
    "B = np.array([2, 3, 4, 5.25, np.NaN, 100])\n",
    "C = np.array([np.NaN,3,5,np.NaN,np.NaN,np.NaN])\n",
    "shared_index = np.where(~np.logical_or(np.isnan(B),np.isnan(C)))"
   ]
  },
  {
   "cell_type": "code",
   "execution_count": 12,
   "metadata": {},
   "outputs": [
    {
     "data": {
      "text/plain": [
       "array([3., 5.])"
      ]
     },
     "execution_count": 12,
     "metadata": {},
     "output_type": "execute_result"
    }
   ],
   "source": [
    "C[shared_index]"
   ]
  },
  {
   "cell_type": "code",
   "execution_count": 68,
   "metadata": {},
   "outputs": [
    {
     "name": "stdout",
     "output_type": "stream",
     "text": [
      "[[1.0 8.163509630537018 1.0]\n",
      " [8.163509630537018 1.0 1.0]\n",
      " [1.0 1.0 1.0]]\n"
     ]
    }
   ],
   "source": [
    "A = [1, 2, 3, 4, 5, np.NaN]\n",
    "B = [2, 3, 4, 5.25, np.NaN, 100]\n",
    "C = [np.NaN,3,5,np.NaN,np.NaN,np.NaN]\n",
    "\n",
    "all_masked = ma.masked_invalid(np.array([A,B,C]))\n",
    "\n",
    "corr_test = ma.corrcoef(all_masked)\n",
    "print(corr_test)"
   ]
  },
  {
   "cell_type": "code",
   "execution_count": 70,
   "metadata": {},
   "outputs": [
    {
     "data": {
      "text/plain": [
       "8.163509630537018"
      ]
     },
     "execution_count": 70,
     "metadata": {},
     "output_type": "execute_result"
    }
   ],
   "source": [
    "corr_test[1,0]"
   ]
  },
  {
   "cell_type": "code",
   "execution_count": 65,
   "metadata": {},
   "outputs": [
    {
     "data": {
      "text/plain": [
       "masked_array(\n",
       "  data=[[1.0, 2.0, 3.0, 4.0, 5.0, --],\n",
       "        [2.0, 3.0, 4.0, 5.25, --, 100.0],\n",
       "        [--, --, --, --, --, --]],\n",
       "  mask=[[False, False, False, False, False,  True],\n",
       "        [False, False, False, False,  True, False],\n",
       "        [ True,  True,  True,  True,  True,  True]],\n",
       "  fill_value=1e+20)"
      ]
     },
     "execution_count": 65,
     "metadata": {},
     "output_type": "execute_result"
    }
   ],
   "source": [
    "all_masked"
   ]
  },
  {
   "cell_type": "code",
   "execution_count": 64,
   "metadata": {},
   "outputs": [
    {
     "name": "stdout",
     "output_type": "stream",
     "text": [
      "[[1.0 0.99838143945703]\n",
      " [0.99838143945703 1.0]]\n"
     ]
    }
   ],
   "source": [
    "A = [1, 2, 3, 4, 5, np.NaN]\n",
    "B = [2, 3, 4, 5.25, np.NaN, 100]\n",
    "\n",
    "print(ma.corrcoef(ma.masked_invalid(A), ma.masked_invalid(B)))"
   ]
  },
  {
   "cell_type": "code",
   "execution_count": 62,
   "metadata": {},
   "outputs": [
    {
     "ename": "NameError",
     "evalue": "name 'all_masked' is not defined",
     "output_type": "error",
     "traceback": [
      "\u001b[0;31m---------------------------------------------------------------------------\u001b[0m",
      "\u001b[0;31mNameError\u001b[0m                                 Traceback (most recent call last)",
      "\u001b[0;32m<ipython-input-62-693c8b271c1f>\u001b[0m in \u001b[0;36m<module>\u001b[0;34m\u001b[0m\n\u001b[0;32m----> 1\u001b[0;31m \u001b[0mall_masked\u001b[0m\u001b[0;34m\u001b[0m\u001b[0;34m\u001b[0m\u001b[0m\n\u001b[0m",
      "\u001b[0;31mNameError\u001b[0m: name 'all_masked' is not defined"
     ]
    }
   ],
   "source": [
    "all_masked"
   ]
  },
  {
   "cell_type": "code",
   "execution_count": 52,
   "metadata": {},
   "outputs": [
    {
     "data": {
      "text/plain": [
       "array([[  1.  ,   2.  ,   3.  ,   4.  ,   5.  ,    nan],\n",
       "       [  2.  ,   3.  ,   4.  ,   5.25,    nan, 100.  ],\n",
       "       [  5.  ,    nan,    nan,    nan,    nan,    nan]])"
      ]
     },
     "execution_count": 52,
     "metadata": {},
     "output_type": "execute_result"
    }
   ],
   "source": [
    "all"
   ]
  },
  {
   "cell_type": "code",
   "execution_count": 46,
   "metadata": {},
   "outputs": [
    {
     "data": {
      "text/plain": [
       "masked_array(\n",
       "  data=[[-0.27417159739853, --, -0.52595032717654, ..., --, --, --],\n",
       "        [-0.49353328343526504, 0.660839594607945, -0.229160422469731,\n",
       "         ..., -0.23352518491260202, -0.447211404750219,\n",
       "         0.28350680549737295],\n",
       "        [-0.9973247935546, --, --, ..., 0.12339527179752302,\n",
       "         -0.336180938653175, 0.47882133187683096],\n",
       "        ...,\n",
       "        [0.0014285990454098699, -0.639854352993868, 0.20637246326225,\n",
       "         ..., -0.38426005804287894, --, --],\n",
       "        [--, --, --, ..., --, --, --],\n",
       "        [-0.345849093341339, --, 0.0630522421837596, ...,\n",
       "         0.150796069705211, -0.35406344171976, -0.542727632709854]],\n",
       "  mask=[[False,  True, False, ...,  True,  True,  True],\n",
       "        [False, False, False, ..., False, False, False],\n",
       "        [False,  True,  True, ..., False, False, False],\n",
       "        ...,\n",
       "        [False, False, False, ..., False,  True,  True],\n",
       "        [ True,  True,  True, ...,  True,  True,  True],\n",
       "        [False,  True, False, ..., False, False, False]],\n",
       "  fill_value=1e+20)"
      ]
     },
     "execution_count": 46,
     "metadata": {},
     "output_type": "execute_result"
    }
   ],
   "source": [
    "test_mask = ma.masked_invalid(proteomeHD_feature_matrix)\n",
    "test_mask"
   ]
  },
  {
   "cell_type": "code",
   "execution_count": 42,
   "metadata": {},
   "outputs": [
    {
     "data": {
      "text/plain": [
       "4976"
      ]
     },
     "execution_count": 42,
     "metadata": {},
     "output_type": "execute_result"
    }
   ],
   "source": [
    "len(proteomeHD_df['Simplified_protein_ID'].unique())"
   ]
  },
  {
   "cell_type": "code",
   "execution_count": 44,
   "metadata": {},
   "outputs": [
    {
     "data": {
      "text/plain": [
       "4959"
      ]
     },
     "execution_count": 44,
     "metadata": {},
     "output_type": "execute_result"
    }
   ],
   "source": [
    "len(proteomeHD_df['Gene_names'].unique())"
   ]
  },
  {
   "cell_type": "code",
   "execution_count": 6,
   "metadata": {
    "collapsed": true
   },
   "outputs": [
    {
     "ename": "TypeError",
     "evalue": "'<' not supported between instances of 'float' and 'str'",
     "output_type": "error",
     "traceback": [
      "\u001b[0;31m---------------------------------------------------------------------------\u001b[0m",
      "\u001b[0;31mTypeError\u001b[0m                                 Traceback (most recent call last)",
      "\u001b[0;32m<ipython-input-6-262aea8d374b>\u001b[0m in \u001b[0;36m<module>\u001b[0;34m\u001b[0m\n\u001b[0;32m----> 1\u001b[0;31m \u001b[0munique_gene_names\u001b[0m \u001b[0;34m=\u001b[0m \u001b[0mnp\u001b[0m\u001b[0;34m.\u001b[0m\u001b[0munique\u001b[0m\u001b[0;34m(\u001b[0m\u001b[0mproteomeHD_df\u001b[0m\u001b[0;34m[\u001b[0m\u001b[0;34m'Gene_names'\u001b[0m\u001b[0;34m]\u001b[0m\u001b[0;34m.\u001b[0m\u001b[0mto_numpy\u001b[0m\u001b[0;34m(\u001b[0m\u001b[0;34m)\u001b[0m\u001b[0;34m)\u001b[0m\u001b[0;34m\u001b[0m\u001b[0;34m\u001b[0m\u001b[0m\n\u001b[0m\u001b[1;32m      2\u001b[0m \u001b[0munique_protein_names\u001b[0m \u001b[0;34m=\u001b[0m \u001b[0mnp\u001b[0m\u001b[0;34m.\u001b[0m\u001b[0munique\u001b[0m\u001b[0;34m(\u001b[0m\u001b[0mproteomeHD_df\u001b[0m\u001b[0;34m[\u001b[0m\u001b[0;34m'Simplified_protein_ID'\u001b[0m\u001b[0;34m]\u001b[0m\u001b[0;34m.\u001b[0m\u001b[0mto_numpy\u001b[0m\u001b[0;34m(\u001b[0m\u001b[0;34m)\u001b[0m\u001b[0;34m)\u001b[0m\u001b[0;34m\u001b[0m\u001b[0;34m\u001b[0m\u001b[0m\n\u001b[1;32m      3\u001b[0m \u001b[0mprint\u001b[0m\u001b[0;34m(\u001b[0m\u001b[0mlen\u001b[0m\u001b[0;34m(\u001b[0m\u001b[0munique_gene_names\u001b[0m\u001b[0;34m)\u001b[0m\u001b[0;34m)\u001b[0m\u001b[0;34m\u001b[0m\u001b[0;34m\u001b[0m\u001b[0m\n\u001b[1;32m      4\u001b[0m \u001b[0mprint\u001b[0m\u001b[0;34m(\u001b[0m\u001b[0mlen\u001b[0m\u001b[0;34m(\u001b[0m\u001b[0munique_protein_names\u001b[0m\u001b[0;34m)\u001b[0m\u001b[0;34m)\u001b[0m\u001b[0;34m\u001b[0m\u001b[0;34m\u001b[0m\u001b[0m\n",
      "\u001b[0;32m<__array_function__ internals>\u001b[0m in \u001b[0;36munique\u001b[0;34m(*args, **kwargs)\u001b[0m\n",
      "\u001b[0;32m/usr/local/anaconda3/lib/python3.8/site-packages/numpy/lib/arraysetops.py\u001b[0m in \u001b[0;36munique\u001b[0;34m(ar, return_index, return_inverse, return_counts, axis)\u001b[0m\n\u001b[1;32m    261\u001b[0m     \u001b[0mar\u001b[0m \u001b[0;34m=\u001b[0m \u001b[0mnp\u001b[0m\u001b[0;34m.\u001b[0m\u001b[0masanyarray\u001b[0m\u001b[0;34m(\u001b[0m\u001b[0mar\u001b[0m\u001b[0;34m)\u001b[0m\u001b[0;34m\u001b[0m\u001b[0;34m\u001b[0m\u001b[0m\n\u001b[1;32m    262\u001b[0m     \u001b[0;32mif\u001b[0m \u001b[0maxis\u001b[0m \u001b[0;32mis\u001b[0m \u001b[0;32mNone\u001b[0m\u001b[0;34m:\u001b[0m\u001b[0;34m\u001b[0m\u001b[0;34m\u001b[0m\u001b[0m\n\u001b[0;32m--> 263\u001b[0;31m         \u001b[0mret\u001b[0m \u001b[0;34m=\u001b[0m \u001b[0m_unique1d\u001b[0m\u001b[0;34m(\u001b[0m\u001b[0mar\u001b[0m\u001b[0;34m,\u001b[0m \u001b[0mreturn_index\u001b[0m\u001b[0;34m,\u001b[0m \u001b[0mreturn_inverse\u001b[0m\u001b[0;34m,\u001b[0m \u001b[0mreturn_counts\u001b[0m\u001b[0;34m)\u001b[0m\u001b[0;34m\u001b[0m\u001b[0;34m\u001b[0m\u001b[0m\n\u001b[0m\u001b[1;32m    264\u001b[0m         \u001b[0;32mreturn\u001b[0m \u001b[0m_unpack_tuple\u001b[0m\u001b[0;34m(\u001b[0m\u001b[0mret\u001b[0m\u001b[0;34m)\u001b[0m\u001b[0;34m\u001b[0m\u001b[0;34m\u001b[0m\u001b[0m\n\u001b[1;32m    265\u001b[0m \u001b[0;34m\u001b[0m\u001b[0m\n",
      "\u001b[0;32m/usr/local/anaconda3/lib/python3.8/site-packages/numpy/lib/arraysetops.py\u001b[0m in \u001b[0;36m_unique1d\u001b[0;34m(ar, return_index, return_inverse, return_counts)\u001b[0m\n\u001b[1;32m    309\u001b[0m         \u001b[0maux\u001b[0m \u001b[0;34m=\u001b[0m \u001b[0mar\u001b[0m\u001b[0;34m[\u001b[0m\u001b[0mperm\u001b[0m\u001b[0;34m]\u001b[0m\u001b[0;34m\u001b[0m\u001b[0;34m\u001b[0m\u001b[0m\n\u001b[1;32m    310\u001b[0m     \u001b[0;32melse\u001b[0m\u001b[0;34m:\u001b[0m\u001b[0;34m\u001b[0m\u001b[0;34m\u001b[0m\u001b[0m\n\u001b[0;32m--> 311\u001b[0;31m         \u001b[0mar\u001b[0m\u001b[0;34m.\u001b[0m\u001b[0msort\u001b[0m\u001b[0;34m(\u001b[0m\u001b[0;34m)\u001b[0m\u001b[0;34m\u001b[0m\u001b[0;34m\u001b[0m\u001b[0m\n\u001b[0m\u001b[1;32m    312\u001b[0m         \u001b[0maux\u001b[0m \u001b[0;34m=\u001b[0m \u001b[0mar\u001b[0m\u001b[0;34m\u001b[0m\u001b[0;34m\u001b[0m\u001b[0m\n\u001b[1;32m    313\u001b[0m     \u001b[0mmask\u001b[0m \u001b[0;34m=\u001b[0m \u001b[0mnp\u001b[0m\u001b[0;34m.\u001b[0m\u001b[0mempty\u001b[0m\u001b[0;34m(\u001b[0m\u001b[0maux\u001b[0m\u001b[0;34m.\u001b[0m\u001b[0mshape\u001b[0m\u001b[0;34m,\u001b[0m \u001b[0mdtype\u001b[0m\u001b[0;34m=\u001b[0m\u001b[0mnp\u001b[0m\u001b[0;34m.\u001b[0m\u001b[0mbool_\u001b[0m\u001b[0;34m)\u001b[0m\u001b[0;34m\u001b[0m\u001b[0;34m\u001b[0m\u001b[0m\n",
      "\u001b[0;31mTypeError\u001b[0m: '<' not supported between instances of 'float' and 'str'"
     ]
    }
   ],
   "source": [
    "unique_gene_names = np.unique(proteomeHD_df['Gene_names'].to_numpy())\n",
    "unique_protein_names = np.unique(proteomeHD_df['Simplified_protein_ID'].to_numpy())\n",
    "print(len(unique_gene_names))\n",
    "print(len(unique_protein_names))"
   ]
  },
  {
   "cell_type": "code",
   "execution_count": 9,
   "metadata": {},
   "outputs": [
    {
     "data": {
      "text/plain": [
       "9857"
      ]
     },
     "execution_count": 9,
     "metadata": {},
     "output_type": "execute_result"
    }
   ],
   "source": [
    "len(proteomeHD_df['Gene_names'].unique())"
   ]
  },
  {
   "cell_type": "code",
   "execution_count": 10,
   "metadata": {},
   "outputs": [
    {
     "data": {
      "text/plain": [
       "9987"
      ]
     },
     "execution_count": 10,
     "metadata": {},
     "output_type": "execute_result"
    }
   ],
   "source": [
    "len(proteomeHD_df['Simplified_protein_ID'].unique())"
   ]
  },
  {
   "cell_type": "code",
   "execution_count": null,
   "metadata": {},
   "outputs": [],
   "source": []
  }
 ],
 "metadata": {
  "kernelspec": {
   "display_name": "Python 3",
   "language": "python",
   "name": "python3"
  },
  "language_info": {
   "codemirror_mode": {
    "name": "ipython",
    "version": 3
   },
   "file_extension": ".py",
   "mimetype": "text/x-python",
   "name": "python",
   "nbconvert_exporter": "python",
   "pygments_lexer": "ipython3",
   "version": "3.8.3"
  }
 },
 "nbformat": 4,
 "nbformat_minor": 4
}
