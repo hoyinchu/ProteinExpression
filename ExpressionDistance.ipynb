{
 "cells": [
  {
   "cell_type": "code",
   "execution_count": 1,
   "metadata": {},
   "outputs": [],
   "source": [
    "import pandas as pd\n",
    "import numpy as np\n",
    "import numpy.ma as ma\n",
    "import pickle\n",
    "from scipy.spatial import distance\n",
    "from scipy import stats\n",
    "import util\n",
    "import time"
   ]
  },
  {
   "cell_type": "markdown",
   "metadata": {},
   "source": [
    "# Data Preprocessing"
   ]
  },
  {
   "cell_type": "code",
   "execution_count": 13,
   "metadata": {},
   "outputs": [],
   "source": [
    "proteomeHD_df = pd.read_csv('./data_sources/ProteomeHD_v1_1.csv')\n",
    "proteomeHD_feature_names = [col for col in proteomeHD_df.columns if 'Ratio' in col]\n",
    "proteomeHD_feature_matrix = proteomeHD_df[proteomeHD_feature_names].to_numpy()\n",
    "# Keep only proteins quantified in at least 95 experiments \n",
    "rows_to_keep = [i for i in range(len(proteomeHD_feature_matrix)) if np.sum(~np.isnan(proteomeHD_feature_matrix[i])) >= 95]\n",
    "proteomeHD_df = proteomeHD_df.iloc[rows_to_keep]\n",
    "proteomeHD_gene_names = proteomeHD_df['Gene_names'].to_numpy()\n",
    "proteomeHD_feature_matrix = proteomeHD_df[proteomeHD_feature_names].to_numpy()"
   ]
  },
  {
   "cell_type": "markdown",
   "metadata": {},
   "source": [
    "# Pearson Correlation (Higher is better)"
   ]
  },
  {
   "cell_type": "code",
   "execution_count": 30,
   "metadata": {},
   "outputs": [],
   "source": [
    "proteomeHD_pearson_corr = pd.DataFrame(proteomeHD_feature_matrix.T).corr().to_numpy()\n",
    "pickle.dump(proteomeHD_pearson_corr, open(\"./pickle_files/proteomeHD_pearson_corr.p\", \"wb\"))"
   ]
  },
  {
   "cell_type": "code",
   "execution_count": 33,
   "metadata": {
    "collapsed": true
   },
   "outputs": [
    {
     "data": {
      "text/plain": [
       "array([[ 1.00000000e+00, -4.31410779e-01, -9.44151553e-02, ...,\n",
       "         3.04476514e-01, -6.12467789e-01, -7.18215156e-04],\n",
       "       [-4.31410779e-01,  1.00000000e+00, -1.59706057e-01, ...,\n",
       "        -6.02307961e-01,  3.21048815e-01,  3.34175414e-01],\n",
       "       [-9.44151553e-02, -1.59706057e-01,  1.00000000e+00, ...,\n",
       "         4.13954433e-02, -8.89459710e-02, -2.94995178e-01],\n",
       "       ...,\n",
       "       [ 3.04476514e-01, -6.02307961e-01,  4.13954433e-02, ...,\n",
       "         1.00000000e+00, -8.74728243e-03, -6.27747123e-02],\n",
       "       [-6.12467789e-01,  3.21048815e-01, -8.89459710e-02, ...,\n",
       "        -8.74728243e-03,  1.00000000e+00,  3.35174003e-01],\n",
       "       [-7.18215156e-04,  3.34175414e-01, -2.94995178e-01, ...,\n",
       "        -6.27747123e-02,  3.35174003e-01,  1.00000000e+00]])"
      ]
     },
     "execution_count": 33,
     "metadata": {},
     "output_type": "execute_result"
    }
   ],
   "source": [
    "proteomeHD_pearson_corr"
   ]
  },
  {
   "cell_type": "markdown",
   "metadata": {},
   "source": [
    "# Cosine Similarity (Lower is better)"
   ]
  },
  {
   "cell_type": "code",
   "execution_count": 7,
   "metadata": {},
   "outputs": [],
   "source": [
    "def calc_distance_matrix(feature_matrix,dist_func,shared_only=True):\n",
    "    print(f\"Calculating {dist_func.__name__}...\")\n",
    "    start_time = time.time()\n",
    "    dist_mat = np.empty((feature_matrix.shape[0],feature_matrix.shape[0]))\n",
    "    for i in range(len(feature_matrix)):\n",
    "        g1 = feature_matrix[i]\n",
    "        for j in range(i,len(feature_matrix)):\n",
    "            g2 = feature_matrix[j]\n",
    "            if shared_only:\n",
    "                shared_index = np.where(~np.logical_or(np.isnan(g1),np.isnan(g2)))\n",
    "                dist_mat[i,j] = dist_func(g1[shared_index],g2[shared_index])\n",
    "            else:\n",
    "                dist_mat[i,j] = dist_func(g1,g2)\n",
    "        if i%200 == 1 and i!=1:\n",
    "            util.calc_eta(start_time,i,len(feature_matrix))\n",
    "    print(\"Done\")\n",
    "    return dist_mat"
   ]
  },
  {
   "cell_type": "code",
   "execution_count": 16,
   "metadata": {
    "collapsed": true
   },
   "outputs": [
    {
     "name": "stdout",
     "output_type": "stream",
     "text": [
      "ETA: 1119.7055976497593 seconds\n",
      "ETA: 1056.7226202719826 seconds\n",
      "ETA: 1001.9879682194969 seconds\n",
      "ETA: 949.5422412357974 seconds\n",
      "ETA: 898.9228995691884 seconds\n",
      "ETA: 849.4658327444109 seconds\n",
      "ETA: 800.5243745248374 seconds\n",
      "ETA: 752.0149992109463 seconds\n",
      "ETA: 704.498385656019 seconds\n",
      "ETA: 657.3929663490857 seconds\n",
      "ETA: 610.8723600423103 seconds\n",
      "ETA: 564.9084674576231 seconds\n",
      "ETA: 519.5333136687229 seconds\n",
      "ETA: 474.5126893068373 seconds\n",
      "ETA: 429.9005548791145 seconds\n",
      "ETA: 385.6745616524937 seconds\n",
      "ETA: 341.89886973711083 seconds\n",
      "ETA: 298.5194986645826 seconds\n",
      "ETA: 255.4581479702583 seconds\n",
      "ETA: 212.7289795035334 seconds\n",
      "ETA: 170.24396729690636 seconds\n",
      "ETA: 128.01063702979215 seconds\n",
      "ETA: 86.00032440327324 seconds\n",
      "ETA: 44.16654186471257 seconds\n",
      "ETA: 2.495871978100718 seconds\n"
     ]
    }
   ],
   "source": [
    "proteomeHD_cosine_sim = calc_distance_matrix(proteomeHD_feature_matrix,distance.cosine)\n",
    "pickle.dump(proteomeHD_cosine_sim, open(\"./pickle_files/proteomeHD_cosine_sim.p\", \"wb\"))"
   ]
  },
  {
   "cell_type": "markdown",
   "metadata": {},
   "source": [
    "# Euclidean Distance (Lower is better)"
   ]
  },
  {
   "cell_type": "code",
   "execution_count": 23,
   "metadata": {
    "collapsed": true
   },
   "outputs": [
    {
     "name": "stdout",
     "output_type": "stream",
     "text": [
      "Calculating euclidean_wrapper...\n",
      "ETA: 255.77284706172657 seconds\n",
      "ETA: 242.60632671679642 seconds\n",
      "ETA: 230.76177597521942 seconds\n",
      "ETA: 219.9061717022671 seconds\n",
      "ETA: 209.50610541535187 seconds\n",
      "ETA: 198.7533334927396 seconds\n",
      "ETA: 188.11425660764382 seconds\n",
      "ETA: 177.86854365049192 seconds\n",
      "ETA: 167.2820610653222 seconds\n",
      "ETA: 157.33678604137415 seconds\n",
      "ETA: 146.5621600894157 seconds\n",
      "ETA: 135.88801530896004 seconds\n",
      "ETA: 125.0859380048864 seconds\n",
      "ETA: 114.30197460436047 seconds\n",
      "ETA: 103.63765920857038 seconds\n",
      "ETA: 93.11448179725855 seconds\n",
      "ETA: 83.02578673128589 seconds\n",
      "ETA: 72.7065665976798 seconds\n",
      "ETA: 62.42495697957846 seconds\n",
      "ETA: 52.09057628128178 seconds\n",
      "ETA: 41.7731706464441 seconds\n",
      "ETA: 31.489648776064133 seconds\n",
      "ETA: 21.2032665162728 seconds\n",
      "ETA: 10.904349852094946 seconds\n",
      "ETA: 0.6173137911937876 seconds\n",
      "Done\n"
     ]
    }
   ],
   "source": [
    "def euclidean_wrapper(g1,g2):\n",
    "    if len(g1) == 0: return float('NaN')\n",
    "    return np.linalg.norm(g1-g2)\n",
    "proteomeHD_euclidean_dist = calc_distance_matrix(proteomeHD_feature_matrix,euclidean_wrapper)\n",
    "pickle.dump(proteomeHD_euclidean_dist, open(\"./pickle_files/proteomeHD_euclidean_dist.p\", \"wb\"))"
   ]
  },
  {
   "cell_type": "markdown",
   "metadata": {},
   "source": [
    "# Co-observed (Higher is better)"
   ]
  },
  {
   "cell_type": "code",
   "execution_count": 34,
   "metadata": {
    "collapsed": true
   },
   "outputs": [
    {
     "name": "stdout",
     "output_type": "stream",
     "text": [
      "Calculating coobserved_wrapper...\n",
      "ETA: 124.99822787384488 seconds\n",
      "ETA: 118.53184208192135 seconds\n",
      "ETA: 112.66914652825989 seconds\n",
      "ETA: 107.36052009496795 seconds\n",
      "ETA: 102.28016804934262 seconds\n",
      "ETA: 97.30045613043512 seconds\n",
      "ETA: 92.20567569691823 seconds\n",
      "ETA: 87.10891923958029 seconds\n",
      "ETA: 82.04264569851772 seconds\n",
      "ETA: 76.95033186808162 seconds\n",
      "ETA: 71.79437222799243 seconds\n",
      "ETA: 66.64800029176317 seconds\n",
      "ETA: 61.68047615566056 seconds\n",
      "ETA: 56.76932482666648 seconds\n",
      "ETA: 51.62353338141792 seconds\n",
      "ETA: 46.465574406639035 seconds\n",
      "ETA: 41.26586028443684 seconds\n",
      "ETA: 36.110779594097224 seconds\n",
      "ETA: 30.96311382769409 seconds\n",
      "ETA: 25.832864125649117 seconds\n",
      "ETA: 20.706433452387362 seconds\n",
      "ETA: 15.595489365435329 seconds\n",
      "ETA: 10.490136948908653 seconds\n",
      "ETA: 5.401252296660696 seconds\n",
      "ETA: 0.3056507471012512 seconds\n",
      "Done\n"
     ]
    }
   ],
   "source": [
    "def coobserved_wrapper(g1,g2):\n",
    "    return len(g1)\n",
    "proteomeHD_coobserved_mat = calc_distance_matrix(proteomeHD_feature_matrix,coobserved_wrapper)\n",
    "pickle.dump(proteomeHD_coobserved_mat, open(\"./pickle_files/proteomeHD_coobserved_mat.p\", \"wb\"))"
   ]
  },
  {
   "cell_type": "markdown",
   "metadata": {},
   "source": [
    "# Spearman Correlation (Higher is better)"
   ]
  },
  {
   "cell_type": "code",
   "execution_count": 8,
   "metadata": {
    "collapsed": true
   },
   "outputs": [
    {
     "name": "stdout",
     "output_type": "stream",
     "text": [
      "Calculating spearman_wrapper...\n",
      "ETA: 10342.86248256911 seconds\n",
      "ETA: 9693.71688305529 seconds\n",
      "ETA: 9076.93428140472 seconds\n",
      "ETA: 8472.717579980914 seconds\n",
      "ETA: 7897.317350256097 seconds\n",
      "ETA: 7338.526525958789 seconds\n",
      "ETA: 6796.280493448327 seconds\n",
      "ETA: 6269.063110860268 seconds\n",
      "ETA: 5759.606991350089 seconds\n",
      "ETA: 5268.0247539780485 seconds\n",
      "ETA: 4794.031888043648 seconds\n",
      "ETA: 4337.3503209471155 seconds\n",
      "ETA: 3898.0682208249314 seconds\n",
      "ETA: 3476.0596754659036 seconds\n",
      "ETA: 3071.950366394236 seconds\n",
      "ETA: 2686.4095688527614 seconds\n",
      "ETA: 2319.267035350558 seconds\n",
      "ETA: 1969.7468061335912 seconds\n",
      "ETA: 1637.8718216865195 seconds\n",
      "ETA: 1323.5027798674341 seconds\n",
      "ETA: 1026.5713779644238 seconds\n",
      "ETA: 747.0792282939201 seconds\n",
      "ETA: 485.0082594416137 seconds\n",
      "ETA: 240.35698257121314 seconds\n",
      "ETA: 13.083996511892995 seconds\n",
      "Done\n"
     ]
    }
   ],
   "source": [
    "def spearman_wrapper(g1,g2):\n",
    "    return stats.spearmanr(g1,g2)[0]\n",
    "proteomeHD_spearman_mat = calc_distance_matrix(proteomeHD_feature_matrix,spearman_wrapper)\n",
    "pickle.dump(proteomeHD_spearman_mat, open(\"./pickle_files/proteomeHD_spearman_corr.p\", \"wb\"))"
   ]
  },
  {
   "cell_type": "markdown",
   "metadata": {},
   "source": [
    "# Write as pair list"
   ]
  },
  {
   "cell_type": "code",
   "execution_count": 19,
   "metadata": {},
   "outputs": [],
   "source": [
    "def write_pair_list(names,matrix,col_names,file_path):\n",
    "    assert len(names) == len(matrix)\n",
    "    print(\"Start writing pair list\")\n",
    "    start_time = time.time()\n",
    "    util.append_to_csv(file_path,col_names,[])\n",
    "    to_write = []\n",
    "    for i in range(len(names)):\n",
    "        for j in range(i,len(matrix)):\n",
    "            if i!=j:\n",
    "                to_write.append((names[i],names[j],matrix[i,j]))\n",
    "        if (i%100==1 or i==len(names)-1) and i!=1:\n",
    "            util.append_to_csv(file_path,None,to_write)\n",
    "            to_write.clear()\n",
    "            util.calc_eta(start_time,i,len(names))\n",
    "    print(\"Done writing pair list\")"
   ]
  },
  {
   "cell_type": "code",
   "execution_count": 18,
   "metadata": {
    "collapsed": true
   },
   "outputs": [
    {
     "name": "stdout",
     "output_type": "stream",
     "text": [
      "ETA: 43.34971010566938 seconds\n",
      "ETA: 41.23657262147363 seconds\n",
      "ETA: 39.70954177704365 seconds\n",
      "ETA: 38.3196732004979 seconds\n",
      "ETA: 37.005428428421475 seconds\n",
      "ETA: 35.752822239664745 seconds\n",
      "ETA: 34.52129993085004 seconds\n",
      "ETA: 33.34454460358352 seconds\n",
      "ETA: 32.21598575012004 seconds\n",
      "ETA: 31.07277051409284 seconds\n",
      "ETA: 29.93349693776476 seconds\n",
      "ETA: 28.814993158764487 seconds\n",
      "ETA: 27.719432364602348 seconds\n",
      "ETA: 26.645442948351583 seconds\n",
      "ETA: 25.601035338572704 seconds\n",
      "ETA: 24.57683908604295 seconds\n",
      "ETA: 23.565616486564515 seconds\n",
      "ETA: 22.57465677510229 seconds\n",
      "ETA: 21.60456180522343 seconds\n",
      "ETA: 20.64659220024921 seconds\n",
      "ETA: 19.705325653642657 seconds\n",
      "ETA: 18.783742529866046 seconds\n",
      "ETA: 17.87961255089711 seconds\n",
      "ETA: 16.99739617081991 seconds\n",
      "ETA: 16.13015124608116 seconds\n",
      "ETA: 15.279788271366106 seconds\n",
      "ETA: 14.448652777306375 seconds\n",
      "ETA: 13.634138326226111 seconds\n",
      "ETA: 12.837383061185125 seconds\n",
      "ETA: 12.056709149089585 seconds\n",
      "ETA: 11.293105540295564 seconds\n",
      "ETA: 10.546957009734678 seconds\n",
      "ETA: 9.818038979720722 seconds\n",
      "ETA: 9.105962686838735 seconds\n",
      "ETA: 8.411150155153251 seconds\n",
      "ETA: 7.733732660225251 seconds\n",
      "ETA: 7.0734025016729 seconds\n",
      "ETA: 6.430269771235706 seconds\n",
      "ETA: 5.804266267848363 seconds\n",
      "ETA: 5.195441528488117 seconds\n",
      "ETA: 4.604427842738076 seconds\n",
      "ETA: 4.030447501791174 seconds\n",
      "ETA: 3.473108650833694 seconds\n",
      "ETA: 2.933043066465538 seconds\n",
      "ETA: 2.4099709341934434 seconds\n",
      "ETA: 1.9040353850058125 seconds\n",
      "ETA: 1.4152735653544355 seconds\n",
      "ETA: 0.9435655090913652 seconds\n",
      "ETA: 0.48892960142685526 seconds\n",
      "ETA: 0.051363011928253995 seconds\n",
      "ETA: 0.004270918732724566 seconds\n",
      "Done writing pair list\n"
     ]
    }
   ],
   "source": [
    "# Load and write proteomeHD pearson corr matrix\n",
    "proteomeHD_pearson_corr = pickle.load(open(\"./pickle_files/proteomeHD_pearson_corr.p\", \"rb\"))\n",
    "proteomeHD_pearson_corr_dist = 1 - proteomeHD_pearson_corr\n",
    "write_pair_list(proteomeHD_gene_names,proteomeHD_pearson_corr_dist,['gene_1','gene_2','pearson'],\"./dist_csv/proteomeHD_pearson_corr_dist.csv\")"
   ]
  },
  {
   "cell_type": "code",
   "execution_count": 20,
   "metadata": {
    "collapsed": true
   },
   "outputs": [
    {
     "name": "stdout",
     "output_type": "stream",
     "text": [
      "Start writing pair list\n",
      "ETA: 44.57275692779239 seconds\n",
      "ETA: 41.875636371214 seconds\n",
      "ETA: 40.14506993974958 seconds\n",
      "ETA: 38.665231279006925 seconds\n",
      "ETA: 37.32103816049542 seconds\n",
      "ETA: 36.023266267062425 seconds\n",
      "ETA: 35.51335524696426 seconds\n",
      "ETA: 34.373063001739844 seconds\n",
      "ETA: 33.226170331338935 seconds\n",
      "ETA: 32.07909155892325 seconds\n",
      "ETA: 30.94697980335038 seconds\n",
      "ETA: 29.793883869987443 seconds\n",
      "ETA: 28.649561982444393 seconds\n",
      "ETA: 27.533356235675694 seconds\n",
      "ETA: 26.442183745534795 seconds\n",
      "ETA: 25.37955845839377 seconds\n",
      "ETA: 24.33333963061136 seconds\n",
      "ETA: 23.305224476358347 seconds\n",
      "ETA: 22.297992582888053 seconds\n",
      "ETA: 21.462885319024906 seconds\n",
      "ETA: 20.48002343084743 seconds\n",
      "ETA: 19.513843810650393 seconds\n",
      "ETA: 18.567947507060026 seconds\n",
      "ETA: 17.642390437445904 seconds\n",
      "ETA: 16.734537486885127 seconds\n",
      "ETA: 15.846395489253801 seconds\n",
      "ETA: 14.98015268093478 seconds\n",
      "ETA: 14.20727159124917 seconds\n",
      "ETA: 13.36936677698019 seconds\n",
      "ETA: 12.547992337032065 seconds\n",
      "ETA: 11.750894071055551 seconds\n",
      "ETA: 10.972381533700501 seconds\n",
      "ETA: 10.209671508178896 seconds\n",
      "ETA: 9.465758647262541 seconds\n",
      "ETA: 8.740088906570081 seconds\n",
      "ETA: 8.035123933655989 seconds\n",
      "ETA: 7.3466606851334 seconds\n",
      "ETA: 6.676763007654011 seconds\n",
      "ETA: 6.026152609067524 seconds\n",
      "ETA: 5.39351405062934 seconds\n",
      "ETA: 4.7788282365108286 seconds\n",
      "ETA: 4.182276584795049 seconds\n",
      "ETA: 3.6031889406588706 seconds\n",
      "ETA: 3.0423835333139615 seconds\n",
      "ETA: 2.4995009789491225 seconds\n",
      "ETA: 1.9746754142000116 seconds\n",
      "ETA: 1.467707365580098 seconds\n",
      "ETA: 0.9784919867488747 seconds\n",
      "ETA: 0.5070193729894887 seconds\n",
      "ETA: 0.05326272372936301 seconds\n",
      "ETA: 0.004428907432084263 seconds\n",
      "Done writing pair list\n"
     ]
    }
   ],
   "source": [
    "# Load and write proteomeHD euclidean dist matrix\n",
    "proteomeHD_euclidean_dist = pickle.load(open(\"./pickle_files/proteomeHD_euclidean_dist.p\", \"rb\"))\n",
    "write_pair_list(proteomeHD_gene_names,proteomeHD_euclidean_dist,['gene_1','gene_2','euclidean'],\"./dist_csv/proteomeHD_euclidean_dist.csv\")"
   ]
  },
  {
   "cell_type": "code",
   "execution_count": 21,
   "metadata": {
    "collapsed": true
   },
   "outputs": [
    {
     "name": "stdout",
     "output_type": "stream",
     "text": [
      "Start writing pair list\n",
      "ETA: 30.778320727962083 seconds\n",
      "ETA: 28.768405359182783 seconds\n",
      "ETA: 27.427693123041198 seconds\n",
      "ETA: 26.335392507234417 seconds\n",
      "ETA: 25.400145068140088 seconds\n",
      "ETA: 24.485431342672392 seconds\n",
      "ETA: 23.589054170246644 seconds\n",
      "ETA: 22.73116403215387 seconds\n",
      "ETA: 21.9185628478191 seconds\n",
      "ETA: 21.1075585924543 seconds\n",
      "ETA: 20.321148599525888 seconds\n",
      "ETA: 19.560587664627214 seconds\n",
      "ETA: 18.811043108178502 seconds\n",
      "ETA: 18.076925532976105 seconds\n",
      "ETA: 17.362082831467255 seconds\n",
      "ETA: 16.67231125864366 seconds\n",
      "ETA: 15.98894212107179 seconds\n",
      "ETA: 15.313031786484958 seconds\n",
      "ETA: 14.663403108206504 seconds\n",
      "ETA: 14.00873034933339 seconds\n",
      "ETA: 13.366971186148104 seconds\n",
      "ETA: 12.738674393462789 seconds\n",
      "ETA: 12.122481523934058 seconds\n",
      "ETA: 11.626031220232333 seconds\n",
      "ETA: 11.147244681839178 seconds\n",
      "ETA: 10.58160038060383 seconds\n",
      "ETA: 10.008072983375614 seconds\n",
      "ETA: 9.44464139008854 seconds\n",
      "ETA: 8.89264987444557 seconds\n",
      "ETA: 8.351694310438392 seconds\n",
      "ETA: 7.822535961683778 seconds\n",
      "ETA: 7.3049856345007775 seconds\n",
      "ETA: 6.798758381101371 seconds\n",
      "ETA: 6.304831697463428 seconds\n",
      "ETA: 5.822527819243679 seconds\n",
      "ETA: 5.392371705756258 seconds\n",
      "ETA: 4.930691273526158 seconds\n",
      "ETA: 4.480945123493342 seconds\n",
      "ETA: 4.043310773155683 seconds\n",
      "ETA: 3.618294765221658 seconds\n",
      "ETA: 3.205384034698866 seconds\n",
      "ETA: 2.804847891175784 seconds\n",
      "ETA: 2.4166621966740056 seconds\n",
      "ETA: 2.0403799259833275 seconds\n",
      "ETA: 1.676186867328094 seconds\n",
      "ETA: 1.324090319233235 seconds\n",
      "ETA: 0.9841178694422563 seconds\n",
      "ETA: 0.656063339656106 seconds\n",
      "ETA: 0.3399481377390496 seconds\n",
      "ETA: 0.03571197553244478 seconds\n",
      "ETA: 0.0029695011669411625 seconds\n",
      "Done writing pair list\n"
     ]
    }
   ],
   "source": [
    "# Load and write proteomeHD coobserved dist matrix\n",
    "proteomeHD_coobserved_dist = pickle.load(open(\"./pickle_files/proteomeHD_coobserved_mat.p\", \"rb\"))\n",
    "write_pair_list(proteomeHD_gene_names,proteomeHD_coobserved_dist,['gene_1','gene_2','coobserved'],\"./dist_csv/proteomeHD_coobserved_dist.csv\")"
   ]
  },
  {
   "cell_type": "code",
   "execution_count": 22,
   "metadata": {
    "collapsed": true
   },
   "outputs": [
    {
     "name": "stdout",
     "output_type": "stream",
     "text": [
      "Start writing pair list\n",
      "ETA: 46.32666536841062 seconds\n",
      "ETA: 45.30500965687766 seconds\n",
      "ETA: 42.93831962762877 seconds\n",
      "ETA: 41.17488799011915 seconds\n",
      "ETA: 39.68723616914121 seconds\n",
      "ETA: 38.20248676179451 seconds\n",
      "ETA: 36.80146424134345 seconds\n",
      "ETA: 35.45627310034934 seconds\n",
      "ETA: 34.13894393785415 seconds\n",
      "ETA: 32.86015856492293 seconds\n",
      "ETA: 31.65325918899245 seconds\n",
      "ETA: 30.961973122017863 seconds\n",
      "ETA: 29.759771020113735 seconds\n",
      "ETA: 28.632706221472272 seconds\n",
      "ETA: 27.774925662707204 seconds\n",
      "ETA: 26.662623732481652 seconds\n",
      "ETA: 25.5442461689944 seconds\n",
      "ETA: 24.58387443027782 seconds\n",
      "ETA: 23.555698696780617 seconds\n",
      "ETA: 22.483039261161657 seconds\n",
      "ETA: 21.430892225335405 seconds\n",
      "ETA: 20.40457396483432 seconds\n",
      "ETA: 19.40710484530811 seconds\n",
      "ETA: 18.42938711324467 seconds\n",
      "ETA: 17.471196070521987 seconds\n",
      "ETA: 16.539250944724955 seconds\n",
      "ETA: 15.625898350613596 seconds\n",
      "ETA: 14.737278159283518 seconds\n",
      "ETA: 13.941306160549097 seconds\n",
      "ETA: 13.08256680724701 seconds\n",
      "ETA: 12.24836694544571 seconds\n",
      "ETA: 11.430908676833893 seconds\n",
      "ETA: 10.634396559684358 seconds\n",
      "ETA: 9.857331562238524 seconds\n",
      "ETA: 9.102240001021437 seconds\n",
      "ETA: 8.365088322731363 seconds\n",
      "ETA: 7.647224622106462 seconds\n",
      "ETA: 6.949417877498347 seconds\n",
      "ETA: 6.270299570220033 seconds\n",
      "ETA: 5.610965467756673 seconds\n",
      "ETA: 4.970498892191822 seconds\n",
      "ETA: 4.349448176345153 seconds\n",
      "ETA: 3.746989073905244 seconds\n",
      "ETA: 3.163588440003814 seconds\n",
      "ETA: 2.598918095240988 seconds\n",
      "ETA: 2.053013407336813 seconds\n",
      "ETA: 1.5258685381608779 seconds\n",
      "ETA: 1.0172228903552936 seconds\n",
      "ETA: 0.5270772029905507 seconds\n",
      "ETA: 0.05536963171635692 seconds\n",
      "ETA: 0.0046040503767520455 seconds\n",
      "Done writing pair list\n"
     ]
    }
   ],
   "source": [
    "# Load and write proteomeHD spearman dist matrix\n",
    "proteomeHD_spearman_dist = pickle.load(open(\"./pickle_files/proteomeHD_spearman_corr.p\", \"rb\"))\n",
    "write_pair_list(proteomeHD_gene_names,proteomeHD_spearman_dist,['gene_1','gene_2','spearman'],\"./dist_csv/proteomeHD_spearman_corr_dist.csv\")"
   ]
  },
  {
   "cell_type": "code",
   "execution_count": null,
   "metadata": {},
   "outputs": [],
   "source": [
    "# Create Validation file"
   ]
  },
  {
   "cell_type": "code",
   "execution_count": 12,
   "metadata": {
    "collapsed": true
   },
   "outputs": [
    {
     "data": {
      "text/plain": [
       "Index(['Majority_protein_IDs', 'Simplified_protein_ID', 'Protein_names',\n",
       "       'Gene_names', 'RatioHL_GK1_Chromatin_AL', 'RatioHL_GK1_Chromatin_CPT',\n",
       "       'RatioHL_GK1_Chromatin_CR', 'RatioHL_GK1_Chromatin_HepHek',\n",
       "       'RatioHL_GK1_Chromatin_hiIR', 'RatioHL_GK1_Chromatin_loIR',\n",
       "       ...\n",
       "       'RatioHL_PX441_E1', 'RatioHL_PX441_E2', 'RatioHL_PX441_E3',\n",
       "       'RatioHL_PX441_E4', 'RatioHL_PX441_E5', 'RatioHL_PX441_F1',\n",
       "       'RatioHL_PX441_F2', 'RatioHL_PX441_F3', 'RatioHL_PX441_F4',\n",
       "       'RatioHL_PX441_F5'],\n",
       "      dtype='object', length=298)"
      ]
     },
     "execution_count": 12,
     "metadata": {},
     "output_type": "execute_result"
    }
   ],
   "source": [
    "proteomeHD_df.columns"
   ]
  },
  {
   "cell_type": "code",
   "execution_count": 68,
   "metadata": {
    "collapsed": true
   },
   "outputs": [
    {
     "name": "stdout",
     "output_type": "stream",
     "text": [
      "[[1.0 8.163509630537018 1.0]\n",
      " [8.163509630537018 1.0 1.0]\n",
      " [1.0 1.0 1.0]]\n"
     ]
    }
   ],
   "source": [
    "A = [1, 2, 3, 4, 5, np.NaN]\n",
    "B = [2, 3, 4, 5.25, np.NaN, 100]\n",
    "C = [np.NaN,3,5,np.NaN,np.NaN,np.NaN]\n",
    "\n",
    "all_masked = ma.masked_invalid(np.array([A,B,C]))\n",
    "\n",
    "corr_test = ma.corrcoef(all_masked)\n",
    "print(corr_test)"
   ]
  },
  {
   "cell_type": "code",
   "execution_count": null,
   "metadata": {},
   "outputs": [],
   "source": []
  },
  {
   "cell_type": "code",
   "execution_count": 37,
   "metadata": {},
   "outputs": [],
   "source": [
    "A = [1, 2, 3, 4, 5, np.NaN]\n",
    "B = [2, 3, 4, 5.25, np.NaN, 100]\n",
    "C = [np.NaN,3,5,np.NaN,np.NaN,np.NaN]"
   ]
  },
  {
   "cell_type": "code",
   "execution_count": 44,
   "metadata": {},
   "outputs": [
    {
     "data": {
      "text/plain": [
       "nan"
      ]
     },
     "execution_count": 44,
     "metadata": {},
     "output_type": "execute_result"
    }
   ],
   "source": []
  },
  {
   "cell_type": "code",
   "execution_count": null,
   "metadata": {},
   "outputs": [],
   "source": []
  }
 ],
 "metadata": {
  "kernelspec": {
   "display_name": "Python 3",
   "language": "python",
   "name": "python3"
  },
  "language_info": {
   "codemirror_mode": {
    "name": "ipython",
    "version": 3
   },
   "file_extension": ".py",
   "mimetype": "text/x-python",
   "name": "python",
   "nbconvert_exporter": "python",
   "pygments_lexer": "ipython3",
   "version": "3.8.3"
  }
 },
 "nbformat": 4,
 "nbformat_minor": 4
}
